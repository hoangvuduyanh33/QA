{
  "nbformat": 4,
  "nbformat_minor": 0,
  "metadata": {
    "colab": {
      "name": "DrQA",
      "provenance": [],
      "collapsed_sections": [],
      "toc_visible": true
    },
    "kernelspec": {
      "name": "python3",
      "display_name": "Python 3"
    },
    "language_info": {
      "name": "python"
    },
    "accelerator": "GPU"
  },
  "cells": [
    {
      "cell_type": "markdown",
      "metadata": {
        "id": "620Lm6uvh9Xn"
      },
      "source": [
        "# Presequisite"
      ]
    },
    {
      "cell_type": "code",
      "metadata": {
        "id": "N7wHOytAZ7Eu"
      },
      "source": [
        "!nvidia-smi"
      ],
      "execution_count": null,
      "outputs": []
    },
    {
      "cell_type": "code",
      "metadata": {
        "id": "bxSiz-wXK-rz"
      },
      "source": [
        "# Install colab_ssh on google colab\n",
        "!pip install colab_ssh --upgrade\n",
        "\n",
        "from colab_ssh import launch_ssh_cloudflared, init_git_cloudflared\n",
        "launch_ssh_cloudflared(password=\"123456789\")"
      ],
      "execution_count": null,
      "outputs": []
    },
    {
      "cell_type": "markdown",
      "metadata": {
        "id": "0A67MhpjbXYJ"
      },
      "source": [
        "# Install DrQA"
      ]
    },
    {
      "cell_type": "markdown",
      "metadata": {
        "id": "RdsFCeGliBm_"
      },
      "source": [
        "## Clone DrQA repo"
      ]
    },
    {
      "cell_type": "code",
      "metadata": {
        "colab": {
          "base_uri": "https://localhost:8080/"
        },
        "id": "TC4lhB--ZRRS",
        "outputId": "92451fdc-fd72-4c88-9a6d-eab76cf7c74a"
      },
      "source": [
        "!git clone https://github.com/facebookresearch/DrQA.git"
      ],
      "execution_count": null,
      "outputs": [
        {
          "output_type": "stream",
          "text": [
            "Cloning into 'DrQA'...\n",
            "remote: Enumerating objects: 265, done.\u001b[K\n",
            "remote: Total 265 (delta 0), reused 0 (delta 0), pack-reused 265\u001b[K\n",
            "Receiving objects: 100% (265/265), 562.37 KiB | 22.49 MiB/s, done.\n",
            "Resolving deltas: 100% (127/127), done.\n"
          ],
          "name": "stdout"
        }
      ]
    },
    {
      "cell_type": "code",
      "metadata": {
        "id": "ZzZRhDfBnT7m"
      },
      "source": [
        "%cd /content/DrQA\n",
        "!sed -i '/pexpect/d' ./requirements.txt\n",
        "!pip install -r requirements.txt\n",
        "!python setup.py develop"
      ],
      "execution_count": null,
      "outputs": []
    },
    {
      "cell_type": "markdown",
      "metadata": {
        "id": "ByosX71ah5o5"
      },
      "source": [
        "## Copy data"
      ]
    },
    {
      "cell_type": "code",
      "metadata": {
        "id": "XxqH-dkJ9VHz"
      },
      "source": [
        "!mkdir data"
      ],
      "execution_count": null,
      "outputs": []
    },
    {
      "cell_type": "code",
      "metadata": {
        "id": "KlvBcNkJDOpW"
      },
      "source": [
        "!cp -Rv /content/drive/Shareddrives/NLP/data/corenlp ./data\n",
        "!cp -Rv /content/drive/Shareddrives/NLP/data/reader ./data\n",
        "!cp -Rv /content/drive/Shareddrives/NLP/data/wikipedia_small ./data"
      ],
      "execution_count": null,
      "outputs": []
    },
    {
      "cell_type": "markdown",
      "metadata": {
        "id": "VGSOWE4iiMdy"
      },
      "source": [
        "## Install and test"
      ]
    },
    {
      "cell_type": "code",
      "metadata": {
        "id": "f-jxv7dNbePX"
      },
      "source": [
        "import drqa.tokenizers\n",
        "drqa.tokenizers.set_default('corenlp_classpath', '/content/DrQA/data/corenlp/*')"
      ],
      "execution_count": null,
      "outputs": []
    },
    {
      "cell_type": "code",
      "metadata": {
        "colab": {
          "base_uri": "https://localhost:8080/"
        },
        "id": "FDWjfOeWbpYe",
        "outputId": "a1d85302-31d8-4227-8609-83cc213badb4"
      },
      "source": [
        "from drqa.tokenizers import CoreNLPTokenizer\n",
        "tok = CoreNLPTokenizer()\n",
        "tok.tokenize('hello world').words()  # Should complete immediately"
      ],
      "execution_count": null,
      "outputs": [
        {
          "output_type": "execute_result",
          "data": {
            "text/plain": [
              "['hello', 'world']"
            ]
          },
          "metadata": {
            "tags": []
          },
          "execution_count": 5
        }
      ]
    },
    {
      "cell_type": "code",
      "metadata": {
        "id": "lIqffVd7qtYN"
      },
      "source": [
        "!python scripts/pipeline/interactive.py \\\n",
        "    --retriever-model data/wikipedia_small/docs-tfidf-ngram=2-hash=16777216-tokenizer=simple.npz \\\n",
        "    --doc-db data/wikipedia_small/docs.db \\\n",
        "    --tokenizer simple"
      ],
      "execution_count": null,
      "outputs": []
    },
    {
      "cell_type": "markdown",
      "metadata": {
        "id": "H8wDFJAFbeQe"
      },
      "source": [
        "# Install drqa-webui"
      ]
    },
    {
      "cell_type": "markdown",
      "metadata": {
        "id": "TebpcJugbhJB"
      },
      "source": [
        "## Clone drqa-webui repo"
      ]
    },
    {
      "cell_type": "code",
      "metadata": {
        "id": "cpdnIsLdbk3s"
      },
      "source": [
        "!git clone https://github.com/namlh201/drqa-webui.git"
      ],
      "execution_count": null,
      "outputs": []
    },
    {
      "cell_type": "code",
      "metadata": {
        "id": "tEln4Uejb3E_"
      },
      "source": [
        "%cd /content/drqa-webui\n",
        "!pip install -r requirements"
      ],
      "execution_count": null,
      "outputs": []
    },
    {
      "cell_type": "markdown",
      "metadata": {
        "id": "KK0wAnZ_cDJZ"
      },
      "source": [
        "## Run WebUI"
      ]
    },
    {
      "cell_type": "code",
      "metadata": {
        "id": "Ely2gADocJhU"
      },
      "source": [
        "!USE_NGROK=True gunicorn --timeout 300 index:app"
      ],
      "execution_count": null,
      "outputs": []
    }
  ]
}